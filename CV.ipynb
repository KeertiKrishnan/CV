{
 "cells": [
  {
   "cell_type": "code",
   "execution_count": 21,
   "metadata": {},
   "outputs": [
    {
     "name": "stdout",
     "output_type": "stream",
     "text": [
      "Enter which image you want : 3\n"
     ]
    }
   ],
   "source": [
    "#ANSWER-3\n",
    "import cv2\n",
    "\n",
    "# Reading color image\n",
    "img2 = cv2.imread(\"C:/Users/91724/Downloads/image.jpg\")\n",
    "\n",
    "# Converting color image to grayscale image\n",
    "gray = cv2.cvtColor(img2, cv2.COLOR_BGR2GRAY)\n",
    "\n",
    "# Converting color image to bluescale image\n",
    "blue = cv2.cvtColor(img2, cv2.COLOR_RGB2BGR)\n",
    "\n",
    "# Converting color image to black and white image\n",
    "bw = cv2.threshold(gray, 128, 255, cv2.THRESH_BINARY)[1]\n",
    "\n",
    "\n",
    "keep = str(input('Enter which image you want : '))\n",
    "if keep == '1':\n",
    "    cv2.imshow(\"Grayscale Image\",gray[::2,::2]) \n",
    "elif keep == '2':\n",
    "    cv2.imshow(\"Bluescale Image\",blue[::2,::2]) \n",
    "elif keep == '3':\n",
    "    cv2.imshow('Black & White Image', bw[::2,::2]) \n",
    "else:\n",
    "    print('Choose 1 or 2 or 3!!')\n",
    "        \n",
    "\n",
    "        \n",
    "cv2.waitKey(0)\n",
    "cv2.destroyAllWindows()"
   ]
  },
  {
   "cell_type": "code",
   "execution_count": null,
   "metadata": {},
   "outputs": [],
   "source": []
  },
  {
   "cell_type": "code",
   "execution_count": null,
   "metadata": {},
   "outputs": [],
   "source": []
  },
  {
   "cell_type": "code",
   "execution_count": 26,
   "metadata": {},
   "outputs": [
    {
     "name": "stdout",
     "output_type": "stream",
     "text": [
      "Found 4 faces!\n"
     ]
    }
   ],
   "source": [
    "#ANSWER-4\n",
    "import cv2\n",
    "\n",
    "Cascade = cv2.CascadeClassifier('C:/Users/91724/Downloads/opencv-master/opencv-master/data/haarcascades/haarcascade_frontalface_default.xml')\n",
    "\n",
    "# Read the image\n",
    "image = cv2.imread('C:/Users/91724/Downloads/faces1.jpg')\n",
    "gray = cv2.cvtColor(image, cv2.COLOR_BGR2GRAY)\n",
    "\n",
    "# Detect faces in the image\n",
    "faces = Cascade.detectMultiScale(gray,minNeighbors=5)\n",
    "\n",
    "print(\"Found {0} faces!\".format(len(faces)))\n",
    "\n",
    "# Draw a rectangle around the faces\n",
    "for (x, y, w, h) in faces:\n",
    "    cv2.rectangle(image, (x, y), (x+w, y+h), (0, 255, 0), 2)\n",
    "\n",
    "\n",
    "cv2.imshow(\"Faces\", image)\n",
    "cv2.waitKey(0)\n",
    "cv2.destroyAllWindows()"
   ]
  },
  {
   "cell_type": "code",
   "execution_count": null,
   "metadata": {},
   "outputs": [],
   "source": []
  },
  {
   "cell_type": "code",
   "execution_count": null,
   "metadata": {},
   "outputs": [],
   "source": []
  },
  {
   "cell_type": "code",
   "execution_count": 13,
   "metadata": {},
   "outputs": [],
   "source": [
    "#ANSWER-5\n",
    "\n",
    "import cv2\n",
    "\n",
    "# Reading and Displaying the image \n",
    "img = cv2.imread(\"C:/Users/91724/Downloads/image.jpg\")\n",
    "cv2.imshow('Original Image',img)\n",
    " \n",
    "# Converting image to negative image\n",
    "neg = cv2.bitwise_not(img)\n",
    "cv2.imshow('Negative Image',neg)\n",
    "\n",
    "cv2.waitKey(0)\n",
    "cv2.destroyAllWindows()"
   ]
  },
  {
   "cell_type": "code",
   "execution_count": null,
   "metadata": {},
   "outputs": [],
   "source": []
  },
  {
   "cell_type": "code",
   "execution_count": null,
   "metadata": {},
   "outputs": [],
   "source": []
  }
 ],
 "metadata": {
  "kernelspec": {
   "display_name": "Python 3",
   "language": "python",
   "name": "python3"
  },
  "language_info": {
   "codemirror_mode": {
    "name": "ipython",
    "version": 3
   },
   "file_extension": ".py",
   "mimetype": "text/x-python",
   "name": "python",
   "nbconvert_exporter": "python",
   "pygments_lexer": "ipython3",
   "version": "3.7.4"
  }
 },
 "nbformat": 4,
 "nbformat_minor": 2
}
